{
  "cells": [
    {
      "cell_type": "code",
      "execution_count": null,
      "id": "8104a3f1",
      "metadata": {
        "collapsed": false,
        "scrolled": true
      },
      "outputs": [],
      "source": [
        "!wget https://github.com/cloudflare/cloudflared/releases/latest/download/cloudflared-linux-amd64\n",
        "!chmod +x cloudflared-linux-amd64"
      ]
    },
    {
      "cell_type": "code",
      "execution_count": null,
      "id": "b36e52c3",
      "metadata": {
        "collapsed": false,
        "scrolled": true
      },
      "outputs": [],
      "source": [
        "!pip install flask-cloudflared\n",
        "!pip install xformers"
      ]
    },
    {
      "cell_type": "code",
      "execution_count": null,
      "id": "28374171",
      "metadata": {
        "collapsed": false,
        "scrolled": true
      },
      "outputs": [],
      "source": [
        "!apt-get update -y && apt-get upgrade -y\n",
        "!apt-get install -y git ffmpeg libgl1 libglib2.0-0\n",
        "!pip install comfy-cli\n",
        "!yes | comfy install\n"
      ]
    },
    {
      "cell_type": "code",
      "execution_count": null,
      "id": "c34f42ff",
      "metadata": {
        "collapsed": false,
        "scrolled": true
      },
      "outputs": [],
      "source": [
        "!cd /root/comfy/ComfyUI/custom_nodes && git clone https://github.com/rgthree/rgthree-comfy.git"
      ]
    },
    {
      "cell_type": "code",
      "execution_count": null,
      "id": "7b0a3f1c",
      "metadata": {
        "collapsed": false,
        "scrolled": true
      },
      "outputs": [],
      "source": [
        "# FLUX TEXT TO IMAGE\n",
        "# Diffusion model\n",
        "!mkdir -p /root/comfy/ComfyUI/models/diffusion_models\n",
        "!cd /root/comfy/ComfyUI/models/diffusion_models && wget -O CyberRealistic_Flux_V1.5.safetensors \"https://huggingface.co/cyberdelia/CyberRealisticFlux/resolve/main/CyberRealistic_Flux_V1.5.safetensors?download=true\"\n",
        "# Text encoders\n",
        "!mkdir -p /root/comfy/ComfyUI/models/text_encoders\n",
        "!cd /root/comfy/ComfyUI/models/text_encoders && wget -O clip_l.safetensors https://huggingface.co/comfyanonymous/flux_text_encoders/resolve/main/clip_l.safetensors\n",
        "!cd /root/comfy/ComfyUI/models/text_encoders && wget -O t5xxl_fp16.safetensors https://huggingface.co/comfyanonymous/flux_text_encoders/resolve/main/t5xxl_fp16.safetensors\n",
        "\n",
        "# VAE\n",
        "!mkdir -p /root/comfy/ComfyUI/models/vae\n",
        "!cd /root/comfy/ComfyUI/models/vae && wget -O ae.safetensors https://huggingface.co/Comfy-Org/Lumina_Image_2.0_Repackaged/resolve/main/split_files/vae/ae.safetensors\n",
        "\n",
        "# LoRAs\n",
        "#!mkdir -p /root/comfy/ComfyUI/models/loras\n",
        "# !cd /root/comfy/ComfyUI/models/loras && wget --content-disposition \"# Link here\"\n"
      ]
    },
    {
      "cell_type": "code",
      "execution_count": null,
      "id": "8636a411",
      "metadata": {
        "collapsed": false,
        "scrolled": true
      },
      "outputs": [],
      "source": [
        "import subprocess\n",
        "import threading\n",
        "import time\n",
        "\n",
        "# ==============================================================================\n",
        "# Step 1: Download and prepare the cloudflared executable\n",
        "# ==============================================================================\n",
        "!wget https://github.com/cloudflare/cloudflared/releases/latest/download/cloudflared-linux-amd64 -O cloudflared\n",
        "!chmod +x cloudflared\n",
        "\n",
        "# ==============================================================================\n",
        "# Step 2: Define and run your ComfyUI app on port 8188\n",
        "# ==============================================================================\n",
        "PORT = 8188\n",
        "\n",
        "def run_comfy():\n",
        "  # This function runs the ComfyUI python script using subprocess\n",
        "  subprocess.run(\n",
        "      [\"python\", \"main.py\", \"--listen\", \"0.0.0.0\", \"--port\", str(PORT)],\n",
        "      cwd=\"/root/comfy/ComfyUI\"  # Specifies the directory to run the command in\n",
        "  )\n",
        "\n",
        "# Start the ComfyUI server in a background thread\n",
        "# This allows our script to continue to the next step\n",
        "threading.Thread(target=run_comfy, daemon=True).start()\n",
        "\n",
        "# Wait a few seconds to allow the ComfyUI server to start up\n",
        "print(\"⏳ Waiting for ComfyUI to start...\")\n",
        "time.sleep(10)\n",
        "print(\"✅ ComfyUI should be running now.\")\n",
        "\n",
        "# ==============================================================================\n",
        "# Step 3: Create the Cloudflare Tunnel to forward port 8188\n",
        "# ==============================================================================\n",
        "# This command creates a public URL and forwards all traffic to your\n",
        "# ComfyUI instance running on the specified local port.\n",
        "# This command will keep running, holding the Colab cell active.\n",
        "!./cloudflared tunnel --url http://localhost:{PORT}"
      ]
    }
  ],
  "metadata": {
    "kernelspec": {
      "display_name": "Python",
      "language": "python",
      "name": "python3"
    },
    "language_info": {
      "codemirror_mode": {
        "name": "ipython",
        "version": 3
      },
      "file_extension": ".py",
      "mimetype": "text/x-python",
      "name": "python",
      "nbconvert_exporter": "python",
      "pygments_lexer": "ipython3"
    }
  },
  "nbformat": 4,
  "nbformat_minor": 5
}
